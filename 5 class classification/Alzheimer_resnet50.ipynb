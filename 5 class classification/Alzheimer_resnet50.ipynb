{
  "nbformat": 4,
  "nbformat_minor": 0,
  "metadata": {
    "colab": {
      "name": "Alzheimer_resnet50.ipynb",
      "provenance": [],
      "collapsed_sections": []
    },
    "kernelspec": {
      "name": "python3",
      "display_name": "Python 3"
    },
    "language_info": {
      "name": "python"
    },
    "accelerator": "GPU"
  },
  "cells": [
    {
      "cell_type": "code",
      "metadata": {
        "colab": {
          "base_uri": "https://localhost:8080/"
        },
        "id": "Y-9huYu24bOR",
        "outputId": "d738ed37-cad8-458a-f173-85865784b214"
      },
      "source": [
        "# from google.colab import drive\n",
        "\n",
        "# drive.mount(\"//content//gdrive\")\n",
        "# path=r\"/content/gdrive/MyDrive/Colab Notebooks/alzheimer.zip (Unzipped Files)/Alzheimer_s Dataset\""
      ],
      "execution_count": null,
      "outputs": [
        {
          "output_type": "stream",
          "text": [
            "Mounted at //content//gdrive\n"
          ],
          "name": "stdout"
        }
      ]
    },
    {
      "cell_type": "code",
      "metadata": {
        "id": "8IqzZa9m3XwE"
      },
      "source": [
        "import numpy as np\n",
        "import pandas as pd\n",
        "import matplotlib.pyplot as plt\n",
        "import seaborn as sn\n",
        "import skimage.io\n",
        "import os \n",
        "import tqdm\n",
        "import glob\n",
        "import tensorflow \n",
        "\n",
        "from tqdm import tqdm\n",
        "from sklearn.utils import shuffle\n",
        "from sklearn import metrics\n",
        "from sklearn.metrics import confusion_matrix, classification_report\n",
        "from sklearn.model_selection import train_test_split\n",
        "\n",
        "from skimage.io import imread, imshow\n",
        "from skimage.transform import resize\n",
        "from skimage.color import grey2rgb\n",
        "\n",
        "import tensorflow as tf\n",
        "from tensorflow.keras.preprocessing.image import ImageDataGenerator\n",
        "from tensorflow.keras.preprocessing import image_dataset_from_directory\n",
        "from tensorflow.keras.models import Sequential\n",
        "from tensorflow.keras.layers import InputLayer, BatchNormalization, Dropout, Flatten, Dense, Activation, MaxPool2D, Conv2D\n",
        "from tensorflow.keras.callbacks import EarlyStopping, ModelCheckpoint\n",
        "from tensorflow.keras.applications.resnet50 import ResNet50\n",
        "from tensorflow.keras.utils import to_categorical\n",
        "from keras import optimizers\n",
        "\n",
        "from keras.callbacks import Callback,ModelCheckpoint\n",
        "from keras.models import Sequential,load_model\n",
        "from keras.layers import Dense, Dropout\n",
        "from keras.wrappers.scikit_learn import KerasClassifier\n",
        "import keras.backend as K\n",
        "\n",
        "#import tensorflow_addons as tfa\n",
        "#from tensorflow.keras.metrics import Metric\n",
        "#from tensorflow_addons.utils.types import AcceptableDTypes, FloatTensorLike\n",
        "from typeguard import typechecked\n",
        "from typing import Optional"
      ],
      "execution_count": null,
      "outputs": []
    },
    {
      "cell_type": "code",
      "metadata": {
        "id": "tvV1O7p73iqr"
      },
      "source": [
        "AUTOTUNE = tf.data.experimental.AUTOTUNE"
      ],
      "execution_count": null,
      "outputs": []
    },
    {
      "cell_type": "code",
      "metadata": {
        "id": "2H2Gq2Jb3toS"
      },
      "source": [
        "train_datagen = ImageDataGenerator(rescale = 1./255,\n",
        "                                   validation_split = 0.2,\n",
        "                                  \n",
        "        rotation_range=5,\n",
        "        width_shift_range=0.2,\n",
        "        height_shift_range=0.2,\n",
        "        shear_range=0.2,\n",
        "        #zoom_range=0.2,\n",
        "        horizontal_flip=True,\n",
        "        vertical_flip=True,\n",
        "        fill_mode='nearest')\n",
        "\n",
        "valid_datagen = ImageDataGenerator(rescale = 1./255,\n",
        "                                  validation_split = 0.2)\n",
        "\n",
        "test_datagen  = ImageDataGenerator(rescale = 1./255\n",
        "                                  )"
      ],
      "execution_count": null,
      "outputs": []
    },
    {
      "cell_type": "code",
      "metadata": {
        "colab": {
          "base_uri": "https://localhost:8080/"
        },
        "id": "_NMXX0-J3wAw",
        "outputId": "0d8cf202-52a8-48cd-90fa-372feb9d5569"
      },
      "source": [
        "#train_dataset = tf.keras.preprocessing.image_dataset_from_directory('../input/alzheimers-dataset-4-class-of-images/Alzheimer_s Dataset/train',\n",
        "#                                                                        validation_split=0.2,\n",
        "#                                                                        subset=\"training\",\n",
        "#                                                                        shuffle=False,\n",
        "#                                                                        image_size=(224,224),\n",
        "#                                                                        batch_size=32,\n",
        "#                                                                        )\n",
        "\n",
        "train_dataset  = train_datagen.flow_from_directory(directory = path+r'/train',\n",
        "                                                   target_size = (224,224),\n",
        "                                                   class_mode = 'categorical',\n",
        "                                                   subset = 'training',\n",
        "                                                   batch_size = 16*6)"
      ],
      "execution_count": null,
      "outputs": [
        {
          "output_type": "stream",
          "text": [
            "Found 4098 images belonging to 4 classes.\n"
          ],
          "name": "stdout"
        }
      ]
    },
    {
      "cell_type": "code",
      "metadata": {
        "colab": {
          "base_uri": "https://localhost:8080/"
        },
        "id": "NFcz4PJr35Rk",
        "outputId": "8e91eccb-7780-4b2c-b64f-4cfc414707a8"
      },
      "source": [
        "#valid_dataset = tf.keras.preprocessing.image_dataset_from_directory('../input/alzheimers-dataset-4-class-of-images/Alzheimer_s Dataset/train',\n",
        "#                                                                        validation_split=0.2,\n",
        "#                                                                        subset=\"validation\",\n",
        "#                                                                        shuffle=False,\n",
        "#                                                                        image_size=(224,224),\n",
        "#                                                                        batch_size=32,\n",
        "#                                                                        )\n",
        "valid_dataset = valid_datagen.flow_from_directory(directory = path+r'/train',\n",
        "                                                  target_size = (224,224),\n",
        "                                                  class_mode = 'categorical',\n",
        "                                                  subset = 'validation',\n",
        "                                                  batch_size = 16*6)"
      ],
      "execution_count": null,
      "outputs": [
        {
          "output_type": "stream",
          "text": [
            "Found 1023 images belonging to 4 classes.\n"
          ],
          "name": "stdout"
        }
      ]
    },
    {
      "cell_type": "code",
      "metadata": {
        "colab": {
          "base_uri": "https://localhost:8080/"
        },
        "id": "7kKKjRJv3ytm",
        "outputId": "d59a143b-b0a0-418b-b111-b0747e5caf1d"
      },
      "source": [
        "#test_dataset = tf.keras.preprocessing.image_dataset_from_directory(\"../input/alzheimers-dataset-4-class-of-images/Alzheimer_s Dataset/test\",\n",
        "##                                                            shuffle=False,\n",
        "#                                                            image_size=(224,224),\n",
        "#                                                            batch_size=32,\n",
        "#)\n",
        "\n",
        "test_dataset = test_datagen.flow_from_directory(directory = path+r'/test',\n",
        "                                                  target_size = (224,224),\n",
        "                                                  class_mode = 'categorical',\n",
        "                                                  batch_size = 16*6)"
      ],
      "execution_count": null,
      "outputs": [
        {
          "output_type": "stream",
          "text": [
            "Found 1279 images belonging to 4 classes.\n"
          ],
          "name": "stdout"
        }
      ]
    },
    {
      "cell_type": "code",
      "metadata": {
        "colab": {
          "base_uri": "https://localhost:8080/"
        },
        "id": "3XoM5li343EQ",
        "outputId": "4794f5da-dbc1-4052-cd8e-0a01862e985e"
      },
      "source": [
        "base_model = ResNet50(input_shape=(224,224,3), \n",
        "                   include_top=False,\n",
        "                   weights=\"imagenet\")"
      ],
      "execution_count": null,
      "outputs": [
        {
          "output_type": "stream",
          "text": [
            "Downloading data from https://storage.googleapis.com/tensorflow/keras-applications/resnet/resnet50_weights_tf_dim_ordering_tf_kernels_notop.h5\n",
            "94773248/94765736 [==============================] - 1s 0us/step\n"
          ],
          "name": "stdout"
        }
      ]
    },
    {
      "cell_type": "code",
      "metadata": {
        "id": "tVO9s9Rc49VV"
      },
      "source": [
        "for layer in base_model.layers:\n",
        "    layer.trainable=False"
      ],
      "execution_count": null,
      "outputs": []
    },
    {
      "cell_type": "code",
      "metadata": {
        "id": "LONN_-QS5AeO"
      },
      "source": [
        "# Building Model\n",
        "\n",
        "model=Sequential()\n",
        "model.add(base_model)\n",
        "model.add(Dropout(0.5))\n",
        "model.add(Flatten())\n",
        "model.add(BatchNormalization())\n",
        "model.add(Dense(64,kernel_initializer='he_uniform'))\n",
        "model.add(BatchNormalization())\n",
        "model.add(Activation('relu'))\n",
        "model.add(Dropout(0.5))\n",
        "model.add(Dense(64,kernel_initializer='he_uniform'))\n",
        "model.add(BatchNormalization())\n",
        "model.add(Activation('relu'))\n",
        "model.add(Dropout(0.5))\n",
        "model.add(Dense(64,kernel_initializer='he_uniform'))\n",
        "model.add(BatchNormalization())\n",
        "model.add(Activation('relu'))\n",
        "model.add(Dropout(0.5))\n",
        "model.add(Dense(32,kernel_initializer='he_uniform'))\n",
        "model.add(BatchNormalization())\n",
        "model.add(Activation('relu'))\n",
        "model.add(Dropout(0.5))\n",
        "model.add(Dense(32,kernel_initializer='he_uniform'))\n",
        "model.add(BatchNormalization())\n",
        "model.add(Activation('relu'))\n",
        "model.add(Dense(4,activation='softmax'))"
      ],
      "execution_count": null,
      "outputs": []
    },
    {
      "cell_type": "code",
      "metadata": {
        "id": "Zdl00egU5QJC"
      },
      "source": [
        "def f1_score(y_true, y_pred): #taken from old keras source code\n",
        "    true_positives = K.sum(K.round(K.clip(y_true * y_pred, 0, 1)))\n",
        "    possible_positives = K.sum(K.round(K.clip(y_true, 0, 1)))\n",
        "    predicted_positives = K.sum(K.round(K.clip(y_pred, 0, 1)))\n",
        "    precision = true_positives / (predicted_positives + K.epsilon())\n",
        "    recall = true_positives / (possible_positives + K.epsilon())\n",
        "    f1_val = 2*(precision*recall)/(precision+recall+K.epsilon())\n",
        "    return f1_val"
      ],
      "execution_count": null,
      "outputs": []
    },
    {
      "cell_type": "code",
      "metadata": {
        "id": "gTMczCuz5edw"
      },
      "source": [
        "METRICS = [\n",
        "      tf.keras.metrics.BinaryAccuracy(name='accuracy'),\n",
        "      tf.keras.metrics.Precision(name='precision'),\n",
        "      tf.keras.metrics.Recall(name='recall'),  \n",
        "      tf.keras.metrics.AUC(name='auc'),\n",
        "        f1_score,\n",
        "]"
      ],
      "execution_count": null,
      "outputs": []
    },
    {
      "cell_type": "code",
      "metadata": {
        "id": "bxNLtpMZ5gd8"
      },
      "source": [
        "def exponential_decay(lr0, s):\n",
        "    def exponential_decay_fn(epoch):\n",
        "        return lr0 * 0.1 **(epoch / s)\n",
        "    return exponential_decay_fn\n",
        "\n",
        "exponential_decay_fn = exponential_decay(0.01, 5) # when i run it for 50 epochs\n",
        "\n",
        "lr_scheduler = tf.keras.callbacks.LearningRateScheduler(exponential_decay_fn)"
      ],
      "execution_count": null,
      "outputs": []
    },
    {
      "cell_type": "code",
      "metadata": {
        "id": "QvmgofgY5iQW"
      },
      "source": [
        "model.compile(optimizer='rmsprop', loss='categorical_crossentropy',metrics=METRICS)"
      ],
      "execution_count": null,
      "outputs": []
    },
    {
      "cell_type": "code",
      "metadata": {
        "id": "_WQx0uXh5kJ4",
        "colab": {
          "base_uri": "https://localhost:8080/"
        },
        "outputId": "1f810b88-3f6d-46d9-e884-fb8ec1bbc2c4"
      },
      "source": [
        "history=model.fit(train_dataset,\n",
        "                        validation_data=valid_dataset,\n",
        "                        epochs = 20,\n",
        "                        verbose = 2,\n",
        "                         callbacks=lr_scheduler)"
      ],
      "execution_count": null,
      "outputs": [
        {
          "output_type": "stream",
          "text": [
            "Epoch 1/20\n"
          ],
          "name": "stdout"
        }
      ]
    },
    {
      "cell_type": "code",
      "metadata": {
        "id": "cJt9Fb1L5mut"
      },
      "source": [
        "#%% PLOTTING RESULTS (Train vs Validation FOLDER 1)\n",
        "\n",
        "def Train_Val_Plot(acc,val_acc,loss,val_loss,auc,val_auc,precision,val_precision,f1,val_f1):\n",
        "    \n",
        "    fig, (ax1, ax2,ax3,ax4,ax5) = plt.subplots(1,5, figsize= (20,5))\n",
        "    fig.suptitle(\" MODEL'S METRICS VISUALIZATION \")\n",
        "\n",
        "    ax1.plot(range(1, len(acc) + 1), acc)\n",
        "    ax1.plot(range(1, len(val_acc) + 1), val_acc)\n",
        "    ax1.set_title('History of Accuracy')\n",
        "    ax1.set_xlabel('Epochs')\n",
        "    ax1.set_ylabel('Accuracy')\n",
        "    ax1.legend(['training', 'validation'])\n",
        "\n",
        "\n",
        "    ax2.plot(range(1, len(loss) + 1), loss)\n",
        "    ax2.plot(range(1, len(val_loss) + 1), val_loss)\n",
        "    ax2.set_title('History of Loss')\n",
        "    ax2.set_xlabel('Epochs')\n",
        "    ax2.set_ylabel('Loss')\n",
        "    ax2.legend(['training', 'validation'])\n",
        "    \n",
        "    ax3.plot(range(1, len(auc) + 1), auc)\n",
        "    ax3.plot(range(1, len(val_auc) + 1), val_auc)\n",
        "    ax3.set_title('History of AUC')\n",
        "    ax3.set_xlabel('Epochs')\n",
        "    ax3.set_ylabel('AUC')\n",
        "    ax3.legend(['training', 'validation'])\n",
        "    \n",
        "    ax4.plot(range(1, len(precision) + 1), precision)\n",
        "    ax4.plot(range(1, len(val_precision) + 1), val_precision)\n",
        "    ax4.set_title('History of Precision')\n",
        "    ax4.set_xlabel('Epochs')\n",
        "    ax4.set_ylabel('Precision')\n",
        "    ax4.legend(['training', 'validation'])\n",
        "    \n",
        "    ax5.plot(range(1, len(f1) + 1), f1)\n",
        "    ax5.plot(range(1, len(val_f1) + 1), val_f1)\n",
        "    ax5.set_title('History of F1-score')\n",
        "    ax5.set_xlabel('Epochs')\n",
        "    ax5.set_ylabel('F1 score')\n",
        "    ax5.legend(['training', 'validation'])\n",
        "\n",
        "\n",
        "    plt.show()\n",
        "    \n",
        "\n",
        "Train_Val_Plot(history.history['accuracy'],history.history['val_accuracy'],\n",
        "               history.history['loss'],history.history['val_loss'],\n",
        "               history.history['auc'],history.history['val_auc'],\n",
        "               history.history['precision'],history.history['val_precision'],\n",
        "               history.history['f1_score'],history.history['val_f1_score']\n",
        "              )"
      ],
      "execution_count": null,
      "outputs": []
    },
    {
      "cell_type": "code",
      "metadata": {
        "id": "MygOSyY972_y"
      },
      "source": [
        "scores = model.evaluate_generator(test_dataset)"
      ],
      "execution_count": null,
      "outputs": []
    },
    {
      "cell_type": "code",
      "metadata": {
        "id": "HXo4OojW725Z"
      },
      "source": [
        "print(\"Accuracy = \", scores[1])\n",
        "print(\"Precision = \", scores[2])\n",
        "print(\"Recall = \", scores[3])\n",
        "print(\"AUC = \", scores[4])\n",
        "print(\"F1_score = \", scores[5])"
      ],
      "execution_count": null,
      "outputs": []
    }
  ]
}