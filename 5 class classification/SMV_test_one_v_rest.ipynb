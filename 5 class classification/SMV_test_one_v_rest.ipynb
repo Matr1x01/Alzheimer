{
 "metadata": {
  "language_info": {
   "codemirror_mode": {
    "name": "ipython",
    "version": 3
   },
   "file_extension": ".py",
   "mimetype": "text/x-python",
   "name": "python",
   "nbconvert_exporter": "python",
   "pygments_lexer": "ipython3",
   "version": "3.6.13"
  },
  "orig_nbformat": 4,
  "kernelspec": {
   "name": "python3",
   "display_name": "Python 3.6.13 64-bit ('tf-amd': conda)"
  },
  "interpreter": {
   "hash": "c94e96bb83342a8b97e318fe3610a28face5210a30124b5ebd62cb5df9d4f7d9"
  }
 },
 "nbformat": 4,
 "nbformat_minor": 2,
 "cells": [
  {
   "cell_type": "code",
   "execution_count": 1,
   "metadata": {},
   "outputs": [],
   "source": [
    "import numpy as np\n",
    "import matplotlib.pyplot as plt\n",
    "import glob\n",
    "import cv2\n",
    "from sklearn.svm import LinearSVC\n",
    "from sklearn.model_selection import train_test_split\n",
    "from sklearn.metrics import accuracy_score"
   ]
  },
  {
   "cell_type": "code",
   "execution_count": 2,
   "metadata": {},
   "outputs": [],
   "source": [
    "class_names = [\"EMCI\",\"LMCI\",\"MCI\",\"AD\",\"CN\"]\n",
    "class_index=[0,1,2,3,4]"
   ]
  },
  {
   "cell_type": "code",
   "execution_count": 3,
   "metadata": {},
   "outputs": [],
   "source": [
    "path=r\"G:\\dataset\\Alzheimers-ADNI\""
   ]
  },
  {
   "cell_type": "code",
   "execution_count": 4,
   "metadata": {},
   "outputs": [],
   "source": [
    "trainData=[]\n",
    "trainDataLables=[]\n",
    "for name in class_names:\n",
    "    images = [cv2.imread(file) for file in glob.glob(path+\"\\\\train\\\\\"+name+r'\\*.jpg')]\n",
    "    for i in images:\n",
    "        i=cv2.resize(i,(256, 256))\n",
    "        var=np.asarray(i).reshape(256, 256, 3)\n",
    "        trainData.append(var.flatten()/255)\n",
    "        for i in range(len(class_names)):\n",
    "            if name==class_names[i]:\n",
    "                trainDataLables.append(i)\n",
    "\n",
    "\n",
    "trainData=(np.asarray(trainData))\n",
    "trainDataLables=np.asarray(trainDataLables)"
   ]
  },
  {
   "cell_type": "code",
   "execution_count": 5,
   "metadata": {},
   "outputs": [],
   "source": [
    "X_train, X_test, y_train, y_test = train_test_split(trainData,\n",
    "                                                    trainDataLables,\n",
    "                                                    test_size=.3,\n",
    "                                                    random_state=1234123)"
   ]
  },
  {
   "cell_type": "code",
   "execution_count": 6,
   "metadata": {},
   "outputs": [
    {
     "output_type": "stream",
     "name": "stderr",
     "text": [
      "C:\\Users\\Matrix\\.conda\\envs\\tf-amd\\lib\\site-packages\\sklearn\\svm\\_base.py:986: ConvergenceWarning: Liblinear failed to converge, increase the number of iterations.\n  \"the number of iterations.\", ConvergenceWarning)\n"
     ]
    },
    {
     "output_type": "execute_result",
     "data": {
      "text/plain": [
       "LinearSVC()"
      ]
     },
     "metadata": {},
     "execution_count": 6
    }
   ],
   "source": [
    "clf = LinearSVC()\n",
    "clf.fit(X_train, y_train)"
   ]
  },
  {
   "cell_type": "code",
   "execution_count": 7,
   "metadata": {},
   "outputs": [
    {
     "output_type": "stream",
     "name": "stdout",
     "text": [
      "Model accuracy is:  0.3595166163141994\n"
     ]
    }
   ],
   "source": [
    "y_pred = clf.predict(X_test)\n",
    "\n",
    "# calculate accuracy\n",
    "accuracy = accuracy_score(y_test, y_pred)\n",
    "print('Model accuracy is: ', accuracy)"
   ]
  },
  {
   "cell_type": "code",
   "execution_count": null,
   "metadata": {},
   "outputs": [],
   "source": []
  }
 ]
}