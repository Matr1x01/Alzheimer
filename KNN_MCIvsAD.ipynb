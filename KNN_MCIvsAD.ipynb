{
 "metadata": {
  "language_info": {
   "codemirror_mode": {
    "name": "ipython",
    "version": 3
   },
   "file_extension": ".py",
   "mimetype": "text/x-python",
   "name": "python",
   "nbconvert_exporter": "python",
   "pygments_lexer": "ipython3",
   "version": "3.8.11"
  },
  "orig_nbformat": 4,
  "kernelspec": {
   "name": "python3",
   "display_name": "Python 3.8.11 64-bit ('tf': conda)"
  },
  "interpreter": {
   "hash": "ab7d3515f702e773f850cbeda25136a17e412e0c7d7d1e717610509fde14580b"
  }
 },
 "nbformat": 4,
 "nbformat_minor": 2,
 "cells": [
  {
   "cell_type": "code",
   "execution_count": 1,
   "source": [
    "#importing needed tools.\r\n",
    "\r\n",
    "from sklearn.neighbors import KNeighborsClassifier\r\n",
    "import numpy as np\r\n",
    "import matplotlib.pyplot as plt\r\n",
    "from sklearn.model_selection import train_test_split\r\n",
    "import seaborn as sns\r\n",
    "from sklearn.metrics import confusion_matrix"
   ],
   "outputs": [],
   "metadata": {}
  },
  {
   "cell_type": "code",
   "execution_count": 2,
   "source": [
    "def make_confusion_matrix(cf,\r\n",
    "                          group_names=None,\r\n",
    "                          categories='auto',\r\n",
    "                          count=True,\r\n",
    "                          percent=True,\r\n",
    "                          cbar=True,\r\n",
    "                          xyticks=True,\r\n",
    "                          xyplotlabels=True,\r\n",
    "                          sum_stats=True,\r\n",
    "                          figsize=None,\r\n",
    "                          cmap='Blues',\r\n",
    "                          title=None):\r\n",
    "    '''\r\n",
    "    This function will make a pretty plot of an sklearn Confusion Matrix cm using a Seaborn heatmap visualization.\r\n",
    "    Arguments\r\n",
    "    ---------\r\n",
    "    cf:            confusion matrix to be passed in\r\n",
    "    group_names:   List of strings that represent the labels row by row to be shown in each square.\r\n",
    "    categories:    List of strings containing the categories to be displayed on the x,y axis. Default is 'auto'\r\n",
    "    count:         If True, show the raw number in the confusion matrix. Default is True.\r\n",
    "    normalize:     If True, show the proportions for each category. Default is True.\r\n",
    "    cbar:          If True, show the color bar. The cbar values are based off the values in the confusion matrix.\r\n",
    "                   Default is True.\r\n",
    "    xyticks:       If True, show x and y ticks. Default is True.\r\n",
    "    xyplotlabels:  If True, show 'True Label' and 'Predicted Label' on the figure. Default is True.\r\n",
    "    sum_stats:     If True, display summary statistics below the figure. Default is True.\r\n",
    "    figsize:       Tuple representing the figure size. Default will be the matplotlib rcParams value.\r\n",
    "    cmap:          Colormap of the values displayed from matplotlib.pyplot.cm. Default is 'Blues'\r\n",
    "                   See http://matplotlib.org/examples/color/colormaps_reference.html\r\n",
    "                   \r\n",
    "    title:         Title for the heatmap. Default is None.\r\n",
    "    '''\r\n",
    "\r\n",
    "\r\n",
    "    # CODE TO GENERATE TEXT INSIDE EACH SQUARE\r\n",
    "    blanks = ['' for i in range(cf.size)]\r\n",
    "\r\n",
    "    if group_names and len(group_names)==cf.size:\r\n",
    "        group_labels = [\"{}\\n\".format(value) for value in group_names]\r\n",
    "    else:\r\n",
    "        group_labels = blanks\r\n",
    "\r\n",
    "    if count:\r\n",
    "        group_counts = [\"{0:0.0f}\\n\".format(value) for value in cf.flatten()]\r\n",
    "    else:\r\n",
    "        group_counts = blanks\r\n",
    "\r\n",
    "    if percent:\r\n",
    "        group_percentages = [\"{0:.2%}\".format(value) for value in cf.flatten()/np.sum(cf)]\r\n",
    "    else:\r\n",
    "        group_percentages = blanks\r\n",
    "\r\n",
    "    box_labels = [f\"{v1}{v2}{v3}\".strip() for v1, v2, v3 in zip(group_labels,group_counts,group_percentages)]\r\n",
    "    box_labels = np.asarray(box_labels).reshape(cf.shape[0],cf.shape[1])\r\n",
    "\r\n",
    "\r\n",
    "    # CODE TO GENERATE SUMMARY STATISTICS & TEXT FOR SUMMARY STATS\r\n",
    "    if sum_stats:\r\n",
    "        #Accuracy is sum of diagonal divided by total observations\r\n",
    "        accuracy  = np.trace(cf) / float(np.sum(cf))\r\n",
    "\r\n",
    "        #if it is a binary confusion matrix, show some more stats\r\n",
    "        if len(cf)==2:\r\n",
    "            #Metrics for Binary Confusion Matrices\r\n",
    "            precision = (cf[1,1] / sum(cf[:,1]) + cf[0,0] / sum(cf[:,0]))/2\r\n",
    "            recall    = (cf[1,1] / sum(cf[1,:]) + cf[0,0] / sum(cf[0,:]))/2\r\n",
    "            f1_score  = 2*precision*recall / (precision + recall)\r\n",
    "            stats_text = \"\\n\\nAccuracy={:0.3f}\\nPrecision={:0.3f}\\nRecall={:0.3f}\\nF1 Score={:0.3f}\".format(\r\n",
    "                accuracy,precision,recall,f1_score)\r\n",
    "        elif len(cf)==3:\r\n",
    "            precision = (cf[2,2] / sum(cf[:,2]) + cf[0,0] / sum(cf[:,0]) + cf[1,1] / sum(cf[:,1]))/3\r\n",
    "            recall    = (cf[1,1] / sum(cf[1,:]) + cf[0,0] / sum(cf[0,:]) + cf[2,2] / sum(cf[2,:]))/3\r\n",
    "            f1_score  = 2*precision*recall / (precision + recall)\r\n",
    "            stats_text = \"\\n\\nAccuracy={:0.3f}\\nPrecision={:0.3f}\\nRecall={:0.3f}\\nF1 Score={:0.3f}\".format(\r\n",
    "                accuracy,precision,recall,f1_score)\r\n",
    "        elif len(cf)==5:\r\n",
    "            precision = (cf[2,2] / sum(cf[:,2]) + cf[0,0] / sum(cf[:,0]) + cf[1,1] / sum(cf[:,1]) + cf[3,3] / sum(cf[:,3]) + cf[4,4] / sum(cf[:,4]) )/5\r\n",
    "            recall    = (cf[1,1] / sum(cf[1,:]) + cf[0,0] / sum(cf[0,:]) + cf[2,2] / sum(cf[2,:]) + cf[3,3] / sum(cf[3,:]) + cf[4,4] / sum(cf[4,:]) )/5\r\n",
    "            f1_score  = 2*precision*recall / (precision + recall)\r\n",
    "            stats_text = \"\\n\\nAccuracy={:0.3f}\\nPrecision={:0.3f}\\nRecall={:0.3f}\\nF1 Score={:0.3f}\".format(\r\n",
    "                accuracy,precision,recall,f1_score)\r\n",
    "        else:\r\n",
    "            stats_text = \"\\n\\nAccuracy={:0.3f}\".format(accuracy)\r\n",
    "    else:\r\n",
    "        stats_text = \"\"\r\n",
    "\r\n",
    "\r\n",
    "    # SET FIGURE PARAMETERS ACCORDING TO OTHER ARGUMENTS\r\n",
    "    if figsize==None:\r\n",
    "        #Get default figure size if not set\r\n",
    "        figsize = plt.rcParams.get('figure.figsize')\r\n",
    "\r\n",
    "    if xyticks==False:\r\n",
    "        #Do not show categories if xyticks is False\r\n",
    "        categories=False\r\n",
    "\r\n",
    "\r\n",
    "    # MAKE THE HEATMAP VISUALIZATION\r\n",
    "    plt.figure(figsize=figsize)\r\n",
    "    sns.heatmap(cf,annot=box_labels,fmt=\"\",cmap=cmap,cbar=cbar,xticklabels=categories,yticklabels=categories)\r\n",
    "\r\n",
    "    if xyplotlabels:\r\n",
    "        plt.ylabel('True label')\r\n",
    "        plt.xlabel('Predicted label' + stats_text)\r\n",
    "    else:\r\n",
    "        plt.xlabel(stats_text)\r\n",
    "    \r\n",
    "    if title:\r\n",
    "        plt.title(title)"
   ],
   "outputs": [],
   "metadata": {}
  },
  {
   "cell_type": "code",
   "execution_count": 3,
   "source": [
    "#class names of the dataset\r\n",
    "class_names = [\"MCI\",\"AD\"]\r\n",
    "class_index=[0,1]"
   ],
   "outputs": [],
   "metadata": {}
  },
  {
   "cell_type": "code",
   "execution_count": 4,
   "source": [
    "path=r\"C:\\Users\\matrix\\Desktop\\Alzheimers-ADNI\""
   ],
   "outputs": [],
   "metadata": {}
  },
  {
   "cell_type": "code",
   "execution_count": 5,
   "source": [
    "import pickle\r\n",
    "fileOpen = open(path+'/MCIvsAD',\"rb\")\r\n",
    "data = pickle.load(fileOpen)\r\n",
    "fileOpen.close()\r\n",
    "\r\n",
    "trainData=data['X']\r\n",
    "trainDataLables=data['y']\r\n",
    "flatTrainData=[]\r\n",
    "for i in trainData:\r\n",
    "    flatTrainData.append(i.flatten()/255)\r\n",
    "flatTrainData=np.array(flatTrainData)\r\n",
    "print(flatTrainData.shape,trainDataLables.shape)"
   ],
   "outputs": [
    {
     "output_type": "stream",
     "name": "stdout",
     "text": [
      "(392, 16384) (392,)\n"
     ]
    }
   ],
   "metadata": {}
  },
  {
   "cell_type": "code",
   "execution_count": 6,
   "source": [
    "#spliting the data in train and test sets\r\n",
    "\r\n",
    "X_train, X_test, y_train, y_test = train_test_split(flatTrainData,\r\n",
    "                                                    trainDataLables,\r\n",
    "                                                    test_size=.25,\r\n",
    "                                                    random_state=1234123)"
   ],
   "outputs": [],
   "metadata": {}
  },
  {
   "cell_type": "code",
   "execution_count": 7,
   "source": [
    "#training the model\r\n",
    "\r\n",
    "model = KNeighborsClassifier(n_neighbors=5,p=1,weights='distance',leaf_size=55)\r\n",
    "model.fit(X_train, y_train)"
   ],
   "outputs": [
    {
     "output_type": "execute_result",
     "data": {
      "text/plain": [
       "KNeighborsClassifier(leaf_size=55, p=1, weights='distance')"
      ]
     },
     "metadata": {},
     "execution_count": 7
    }
   ],
   "metadata": {}
  },
  {
   "cell_type": "code",
   "execution_count": 8,
   "source": [
    "#printing out the test accuracy \r\n",
    "acc = model.score(X_test,y_test)\r\n",
    "print(acc)\r\n"
   ],
   "outputs": [
    {
     "output_type": "stream",
     "name": "stdout",
     "text": [
      "0.7346938775510204\n"
     ]
    }
   ],
   "metadata": {}
  },
  {
   "cell_type": "code",
   "execution_count": 9,
   "source": [
    "y_pred = model.predict(X_test)"
   ],
   "outputs": [],
   "metadata": {}
  },
  {
   "cell_type": "code",
   "execution_count": 10,
   "source": [
    "sns.set()\r\n",
    "cf_matrix=confusion_matrix(y_test, y_pred)\r\n",
    "make_confusion_matrix(cf_matrix,categories=class_names,cmap='Blues',figsize=(8,6))\r\n",
    "plt.show()"
   ],
   "outputs": [
    {
     "output_type": "display_data",
     "data": {
      "image/png": "[encoded data removed]",
      "text/plain": [
       "<Figure size 800x600 with 2 Axes>"
      ]
     },
     "metadata": {}
    }
   ],
   "metadata": {}
  },
  {
   "cell_type": "code",
   "execution_count": 11,
   "source": [
    "from sklearn.model_selection import cross_val_score\r\n",
    "score=cross_val_score(model,X_train, y_train,cv=10)"
   ],
   "outputs": [],
   "metadata": {}
  },
  {
   "cell_type": "code",
   "execution_count": 12,
   "source": [
    "score"
   ],
   "outputs": [
    {
     "output_type": "execute_result",
     "data": {
      "text/plain": [
       "array([0.63333333, 0.76666667, 0.6       , 0.43333333, 0.55172414,\n",
       "       0.51724138, 0.72413793, 0.82758621, 0.68965517, 0.5862069 ])"
      ]
     },
     "metadata": {},
     "execution_count": 12
    }
   ],
   "metadata": {}
  },
  {
   "cell_type": "code",
   "execution_count": 13,
   "source": [
    "from sklearn.metrics import classification_report\r\n",
    "print(classification_report(y_test, y_pred, target_names=class_names))"
   ],
   "outputs": [
    {
     "output_type": "stream",
     "name": "stdout",
     "text": [
      "              precision    recall  f1-score   support\n",
      "\n",
      "         MCI       0.71      0.80      0.75        50\n",
      "          AD       0.76      0.67      0.71        48\n",
      "\n",
      "    accuracy                           0.73        98\n",
      "   macro avg       0.74      0.73      0.73        98\n",
      "weighted avg       0.74      0.73      0.73        98\n",
      "\n"
     ]
    }
   ],
   "metadata": {}
  }
 ]
}