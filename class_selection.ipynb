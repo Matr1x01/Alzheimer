{
 "cells": [
  {
   "cell_type": "code",
   "execution_count": 1,
   "source": [
    "import numpy as np\r\n",
    "import cv2\r\n",
    "from sklearn.utils import shuffle\r\n",
    "import random\r\n",
    "import matplotlib.pyplot as plt\r\n",
    "import glob"
   ],
   "outputs": [],
   "metadata": {}
  },
  {
   "cell_type": "code",
   "execution_count": 2,
   "source": [
    "def rotate_image(image, angle):\r\n",
    "  image_center = tuple(np.array(image.shape[1::-1]) / 2)\r\n",
    "  rot_mat = cv2.getRotationMatrix2D(image_center, angle, 1.0)\r\n",
    "  result = cv2.warpAffine(image, rot_mat, image.shape[1::-1], flags=cv2.INTER_LINEAR)\r\n",
    "  return result"
   ],
   "outputs": [],
   "metadata": {}
  },
  {
   "cell_type": "code",
   "execution_count": 3,
   "source": [
    "class_names = [\"AD\",\"CN\"]\r\n",
    "class_index=[0,1]\r\n",
    "path=r\"C:\\Users\\matrix\\Desktop\\Alzheimers-ADNI\""
   ],
   "outputs": [],
   "metadata": {}
  },
  {
   "cell_type": "code",
   "execution_count": 4,
   "source": [
    "'''reading the images'''\r\n",
    "data=dict()\r\n",
    "# trainData=[]\r\n",
    "# trainDataLables=[]\r\n",
    "coo_matrix=[]\r\n",
    "for name in class_names:\r\n",
    "    images = [cv2.imread(file,cv2.COLOR_BGR2GRAY) for file in glob.glob(path+\"\\\\train\\\\\"+name+r'\\*.jpg')]\r\n",
    "    coo_matrix.append({name:len(images)})\r\n",
    "    temp=[]\r\n",
    "    for i in images:\r\n",
    "        i=cv2.resize(i,(128,128))\r\n",
    "        temp.append(np.asarray(i))\r\n",
    "    data[name]=temp"
   ],
   "outputs": [],
   "metadata": {}
  },
  {
   "cell_type": "code",
   "execution_count": 5,
   "source": [
    "'''balancing imbalanced data'''\r\n",
    "print('before')\r\n",
    "print(coo_matrix)\r\n",
    "max_count=0\r\n",
    "for name in class_names:\r\n",
    "    if len(data[name])>max_count:\r\n",
    "        max_count=len(data[name])\r\n",
    "print(max_count)\r\n",
    "\r\n",
    "for name in class_names:\r\n",
    "    n=len(data[name])\r\n",
    "    for t in range(n,max_count):\r\n",
    "        rnd=data[name][random.randint(0, n)]\r\n",
    "        rtd=rotate_image(rnd,random.randint(-10,10))\r\n",
    "        data[name].append(rtd)\r\n",
    "\r\n",
    "coo_matrix=[]\r\n",
    "for name in class_names:\r\n",
    "    n=len(data[name])\r\n",
    "    coo_matrix.append({name:n})\r\n",
    "\r\n",
    "print('after')\r\n",
    "print(coo_matrix)"
   ],
   "outputs": [
    {
     "output_type": "stream",
     "name": "stdout",
     "text": [
      "before\n",
      "[{'AD': 145}, {'CN': 486}]\n",
      "486\n",
      "after\n",
      "[{'AD': 486}, {'CN': 486}]\n"
     ]
    }
   ],
   "metadata": {}
  },
  {
   "cell_type": "code",
   "execution_count": 6,
   "source": [
    "trainData=[]\r\n",
    "trainDataLables=[]\r\n",
    "index=0\r\n",
    "for name in class_names:\r\n",
    "    for i in data[name]:\r\n",
    "        trainData.append(i)\r\n",
    "        trainDataLables.append(index)\r\n",
    "    index+=1\r\n",
    "\r\n",
    "trainData=np.array(trainData)\r\n",
    "trainDataLables=np.asarray(trainDataLables)\r\n",
    "trainData,trainDataLables=shuffle(trainData,trainDataLables)"
   ],
   "outputs": [],
   "metadata": {}
  },
  {
   "cell_type": "code",
   "execution_count": 7,
   "source": [
    "# import hickle as hkl\r\n",
    "# data = {\"X\":trainData,\"y\":trainDataLables}\r\n",
    "# hkl.dump(data,path+'/data1.hkl')"
   ],
   "outputs": [],
   "metadata": {}
  },
  {
   "cell_type": "code",
   "execution_count": 8,
   "source": [
    "import pickle\r\n",
    "data = {\"X\":trainData,\"y\":trainDataLables}\r\n",
    "fileOpen=open(path+'/ADvsCN',\"ab\")\r\n",
    "pickle.dump(data, fileOpen)                     \r\n",
    "fileOpen.close()"
   ],
   "outputs": [],
   "metadata": {}
  },
  {
   "cell_type": "code",
   "execution_count": null,
   "source": [],
   "outputs": [],
   "metadata": {}
  }
 ],
 "metadata": {
  "orig_nbformat": 4,
  "language_info": {
   "name": "python",
   "version": "3.8.11",
   "mimetype": "text/x-python",
   "codemirror_mode": {
    "name": "ipython",
    "version": 3
   },
   "pygments_lexer": "ipython3",
   "nbconvert_exporter": "python",
   "file_extension": ".py"
  },
  "kernelspec": {
   "name": "python3",
   "display_name": "Python 3.8.11 64-bit ('tf': conda)"
  },
  "interpreter": {
   "hash": "ab7d3515f702e773f850cbeda25136a17e412e0c7d7d1e717610509fde14580b"
  }
 },
 "nbformat": 4,
 "nbformat_minor": 2
}