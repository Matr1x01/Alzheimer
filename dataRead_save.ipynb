{
 "cells": [
  {
   "cell_type": "code",
   "execution_count": 1,
   "source": [
    "import numpy as np\r\n",
    "import cv2\r\n",
    "from sklearn.utils import shuffle\r\n",
    "import random\r\n",
    "import matplotlib.pyplot as plt\r\n",
    "import glob"
   ],
   "outputs": [],
   "metadata": {}
  },
  {
   "cell_type": "code",
   "execution_count": 2,
   "source": [
    "def rotate_image(image, angle):\r\n",
    "  image_center = tuple(np.array(image.shape[1::-1]) / 2)\r\n",
    "  rot_mat = cv2.getRotationMatrix2D(image_center, angle, 1.0)\r\n",
    "  result = cv2.warpAffine(image, rot_mat, image.shape[1::-1], flags=cv2.INTER_LINEAR)\r\n",
    "  return result"
   ],
   "outputs": [],
   "metadata": {}
  },
  {
   "cell_type": "code",
   "execution_count": 3,
   "source": [
    "class_names = [\"EMCI\",\"LMCI\",\"MCI\",\"AD\",\"CN\"]\r\n",
    "class_index=[0,1,2,3,4]\r\n",
    "path=r\"G:\\dataset\\Alzheimers-ADNI\""
   ],
   "outputs": [],
   "metadata": {}
  },
  {
   "cell_type": "code",
   "execution_count": 4,
   "source": [
    "'''reading the images'''\r\n",
    "data=dict()\r\n",
    "# trainData=[]\r\n",
    "# trainDataLables=[]\r\n",
    "coo_matrix=[]\r\n",
    "for name in class_names:\r\n",
    "    images = [cv2.imread(file,cv2.COLOR_BGR2GRAY) for file in glob.glob(path+\"\\\\train\\\\\"+name+r'\\*.jpg')]\r\n",
    "    coo_matrix.append({name:len(images)})\r\n",
    "    temp=[]\r\n",
    "    for i in images:\r\n",
    "        i=cv2.resize(i,(128,128))\r\n",
    "        temp.append(np.asarray(i))\r\n",
    "    data[name]=temp"
   ],
   "outputs": [
    {
     "output_type": "error",
     "ename": "NameError",
     "evalue": "name 'glob' is not defined",
     "traceback": [
      "\u001b[1;31m---------------------------------------------------------------------------\u001b[0m",
      "\u001b[1;31mNameError\u001b[0m                                 Traceback (most recent call last)",
      "\u001b[1;32m<ipython-input-4-7be4a76a98d2>\u001b[0m in \u001b[0;36m<module>\u001b[1;34m\u001b[0m\n\u001b[0;32m      5\u001b[0m \u001b[0mcoo_matrix\u001b[0m\u001b[1;33m=\u001b[0m\u001b[1;33m[\u001b[0m\u001b[1;33m]\u001b[0m\u001b[1;33m\u001b[0m\u001b[1;33m\u001b[0m\u001b[0m\n\u001b[0;32m      6\u001b[0m \u001b[1;32mfor\u001b[0m \u001b[0mname\u001b[0m \u001b[1;32min\u001b[0m \u001b[0mclass_names\u001b[0m\u001b[1;33m:\u001b[0m\u001b[1;33m\u001b[0m\u001b[1;33m\u001b[0m\u001b[0m\n\u001b[1;32m----> 7\u001b[1;33m     \u001b[0mimages\u001b[0m \u001b[1;33m=\u001b[0m \u001b[1;33m[\u001b[0m\u001b[0mcv2\u001b[0m\u001b[1;33m.\u001b[0m\u001b[0mimread\u001b[0m\u001b[1;33m(\u001b[0m\u001b[0mfile\u001b[0m\u001b[1;33m,\u001b[0m\u001b[0mcv2\u001b[0m\u001b[1;33m.\u001b[0m\u001b[0mCOLOR_BGR2GRAY\u001b[0m\u001b[1;33m)\u001b[0m \u001b[1;32mfor\u001b[0m \u001b[0mfile\u001b[0m \u001b[1;32min\u001b[0m \u001b[0mglob\u001b[0m\u001b[1;33m.\u001b[0m\u001b[0mglob\u001b[0m\u001b[1;33m(\u001b[0m\u001b[0mpath\u001b[0m\u001b[1;33m+\u001b[0m\u001b[1;34m\"\\\\train\\\\\"\u001b[0m\u001b[1;33m+\u001b[0m\u001b[0mname\u001b[0m\u001b[1;33m+\u001b[0m\u001b[1;34mr'\\*.jpg'\u001b[0m\u001b[1;33m)\u001b[0m\u001b[1;33m]\u001b[0m\u001b[1;33m\u001b[0m\u001b[1;33m\u001b[0m\u001b[0m\n\u001b[0m\u001b[0;32m      8\u001b[0m     \u001b[0mcoo_matrix\u001b[0m\u001b[1;33m.\u001b[0m\u001b[0mappend\u001b[0m\u001b[1;33m(\u001b[0m\u001b[1;33m{\u001b[0m\u001b[0mname\u001b[0m\u001b[1;33m:\u001b[0m\u001b[0mlen\u001b[0m\u001b[1;33m(\u001b[0m\u001b[0mimages\u001b[0m\u001b[1;33m)\u001b[0m\u001b[1;33m}\u001b[0m\u001b[1;33m)\u001b[0m\u001b[1;33m\u001b[0m\u001b[1;33m\u001b[0m\u001b[0m\n\u001b[0;32m      9\u001b[0m     \u001b[0mtemp\u001b[0m\u001b[1;33m=\u001b[0m\u001b[1;33m[\u001b[0m\u001b[1;33m]\u001b[0m\u001b[1;33m\u001b[0m\u001b[1;33m\u001b[0m\u001b[0m\n",
      "\u001b[1;31mNameError\u001b[0m: name 'glob' is not defined"
     ]
    }
   ],
   "metadata": {}
  },
  {
   "cell_type": "code",
   "execution_count": null,
   "source": [
    "'''balancing imbalanced data'''\r\n",
    "print('before')\r\n",
    "print(coo_matrix)\r\n",
    "max_count=0\r\n",
    "for name in class_names:\r\n",
    "    if len(data[name])>max_count:\r\n",
    "        max_count=len(data[name])\r\n",
    "print(max_count)\r\n",
    "\r\n",
    "for name in class_names:\r\n",
    "    n=len(data[name])\r\n",
    "    for t in range(n,max_count):\r\n",
    "        rnd=data[name][random.randint(0, n)]\r\n",
    "        rtd=rotate_image(rnd,random.randint(-10,10))\r\n",
    "        data[name].append(rtd)\r\n",
    "\r\n",
    "coo_matrix=[]\r\n",
    "for name in class_names:\r\n",
    "    n=len(data[name])\r\n",
    "    coo_matrix.append({name:n})\r\n",
    "\r\n",
    "print('after')\r\n",
    "print(coo_matrix)"
   ],
   "outputs": [],
   "metadata": {}
  },
  {
   "cell_type": "code",
   "execution_count": null,
   "source": [
    "trainData=[]\r\n",
    "trainDataLables=[]\r\n",
    "index=0\r\n",
    "for name in class_names:\r\n",
    "    for i in data[name]:\r\n",
    "        trainData.append(i)\r\n",
    "        trainDataLables.append(index)\r\n",
    "    index+=1\r\n",
    "\r\n",
    "trainData=np.array(trainData)\r\n",
    "trainDataLables=np.asarray(trainDataLables)\r\n",
    "trainData,trainDataLables=shuffle(trainData,trainDataLables)"
   ],
   "outputs": [],
   "metadata": {}
  },
  {
   "cell_type": "code",
   "execution_count": null,
   "source": [
    "# import hickle as hkl\r\n",
    "# data = {\"X\":trainData,\"y\":trainDataLables}\r\n",
    "# hkl.dump(data,path+'/data1.hkl')"
   ],
   "outputs": [],
   "metadata": {}
  },
  {
   "cell_type": "code",
   "execution_count": null,
   "source": [
    "import pickle\r\n",
    "fileOpen=open(path+'/data1',\"ab\")\r\n",
    "pickle.dump(data, fileOpen)                     \r\n",
    "fileOpen.close()"
   ],
   "outputs": [],
   "metadata": {}
  }
 ],
 "metadata": {
  "orig_nbformat": 4,
  "language_info": {
   "name": "python",
   "version": "3.6.13",
   "mimetype": "text/x-python",
   "codemirror_mode": {
    "name": "ipython",
    "version": 3
   },
   "pygments_lexer": "ipython3",
   "nbconvert_exporter": "python",
   "file_extension": ".py"
  },
  "kernelspec": {
   "name": "python3",
   "display_name": "Python 3.6.13 64-bit ('tf-amd': conda)"
  },
  "interpreter": {
   "hash": "c94e96bb83342a8b97e318fe3610a28face5210a30124b5ebd62cb5df9d4f7d9"
  }
 },
 "nbformat": 4,
 "nbformat_minor": 2
}