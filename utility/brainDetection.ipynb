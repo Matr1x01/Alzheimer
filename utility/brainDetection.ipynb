{
 "cells": [
  {
   "cell_type": "code",
   "execution_count": null,
   "source": [
    "from google.colab import drive\r\n",
    "\r\n",
    "drive.mount(\"//content//gdrive\")"
   ],
   "outputs": [],
   "metadata": {}
  },
  {
   "cell_type": "code",
   "execution_count": 1,
   "source": [
    "import numpy as np\r\n",
    "import tensorflow as tf\r\n",
    "import matplotlib.pyplot as plt\r\n",
    "import cv2\r\n",
    "from tensorflow.keras import models,layers,Sequential\r\n",
    "from sklearn.model_selection import train_test_split\r\n",
    "import random\r\n",
    "from sklearn.utils import shuffle"
   ],
   "outputs": [],
   "metadata": {}
  },
  {
   "cell_type": "code",
   "execution_count": 2,
   "source": [
    "brainPath=r\"C:\\Users\\matrix\\Desktop\\brainData\""
   ],
   "outputs": [],
   "metadata": {}
  },
  {
   "cell_type": "code",
   "execution_count": 3,
   "source": [
    "import pickle\r\n",
    "fileOpen = open(brainPath+'/brain_data',\"rb\")\r\n",
    "data = pickle.load(fileOpen)\r\n",
    "fileOpen.close()\r\n",
    "\r\n",
    "trainData=data['X']\r\n",
    "trainDataLables=data['y']\r\n",
    "print(trainData.shape,trainDataLables.shape)"
   ],
   "outputs": [
    {
     "output_type": "stream",
     "name": "stdout",
     "text": [
      "(600, 256, 256) (600, 2)\n"
     ]
    }
   ],
   "metadata": {}
  },
  {
   "cell_type": "code",
   "execution_count": 4,
   "source": [
    "input_shape=(256,256)"
   ],
   "outputs": [],
   "metadata": {}
  },
  {
   "cell_type": "code",
   "execution_count": 5,
   "source": [
    "def conv_block(filters):\r\n",
    "    block = Sequential([\r\n",
    "        layers.SeparableConv2D(filters, 3, activation='relu', padding='same'),\r\n",
    "        layers.SeparableConv2D(filters, 3, activation='relu', padding='same'),\r\n",
    "        layers.BatchNormalization(),\r\n",
    "        layers.MaxPool2D()\r\n",
    "    ]\r\n",
    "    )\r\n",
    "    \r\n",
    "    return block"
   ],
   "outputs": [],
   "metadata": {}
  },
  {
   "cell_type": "code",
   "execution_count": 6,
   "source": [
    "def dense_block(units, dropout_rate):\r\n",
    "    block = Sequential([\r\n",
    "        layers.Dense(units, activation='relu'),\r\n",
    "        layers.BatchNormalization(),\r\n",
    "        layers.Dropout(dropout_rate)\r\n",
    "    ])\r\n",
    "    \r\n",
    "    return block"
   ],
   "outputs": [],
   "metadata": {}
  },
  {
   "cell_type": "code",
   "execution_count": null,
   "source": [
    "model = models.Sequential([\r\n",
    "    layers.Conv2D(filters=16,kernel_size=7,kernel_initializer='he_uniform',activation='relu',input_shape=input_shape),\r\n",
    "    layers.Conv2D(filters=16,kernel_size=7,kernel_initializer='he_uniform',activation='relu'),\r\n",
    "    layers.MaxPooling2D(),\r\n",
    "\r\n",
    "\r\n",
    "    conv_block(32),\r\n",
    "    conv_block(64),\r\n",
    "        \r\n",
    "    conv_block(128),\r\n",
    "    tf.keras.layers.Dropout(0.2),\r\n",
    "    \r\n",
    "    conv_block(256),\r\n",
    "    tf.keras.layers.Dropout(0.2),\r\n",
    "    \r\n",
    "    tf.keras.layers.Flatten(),\r\n",
    "    dense_block(512, 0.5),\r\n",
    "    dense_block(128, 0.3),\r\n",
    "    dense_block(64, 0.1),\r\n",
    "    layers.Dense(2, activation='sigmoid')\r\n",
    "])\r\n",
    "model.summary()"
   ],
   "outputs": [],
   "metadata": {}
  },
  {
   "cell_type": "code",
   "execution_count": null,
   "source": [
    "METRICS = [tf.keras.metrics.AUC(name='auc')]\r\n",
    "model.compile(\r\n",
    "        optimizer='adam',\r\n",
    "        loss=tf.keras.losses.binary_crossentropy,\r\n",
    "        metrics=METRICS\r\n",
    "    )"
   ],
   "outputs": [],
   "metadata": {}
  },
  {
   "cell_type": "code",
   "execution_count": null,
   "source": [
    "def exponential_decay(lr0, s):\r\n",
    "    def exponential_decay_fn(epoch):\r\n",
    "        return lr0 * 0.1 **(epoch / s)\r\n",
    "    return exponential_decay_fn\r\n",
    "\r\n",
    "exponential_decay_fn = exponential_decay(0.01, 20)\r\n",
    "\r\n",
    "lr_scheduler = tf.keras.callbacks.LearningRateScheduler(exponential_decay_fn)\r\n",
    "\r\n",
    "checkpoint_cb = tf.keras.callbacks.ModelCheckpoint(\"brainModel.h5\",\r\n",
    "                                                    save_best_only=True)\r\n",
    "\r\n",
    "early_stopping_cb = tf.keras.callbacks.EarlyStopping(patience=10,\r\n",
    "                                                     restore_best_weights=True)"
   ],
   "outputs": [],
   "metadata": {}
  },
  {
   "cell_type": "code",
   "execution_count": null,
   "source": [
    "x_train,x_val,y_train,y_val=train_test_split(trainData, trainDataLables, test_size=0.25, random_state=42)"
   ],
   "outputs": [],
   "metadata": {}
  },
  {
   "cell_type": "code",
   "execution_count": null,
   "source": [
    "history = model.fit(\r\n",
    "    x_train,y_train,\r\n",
    "    # validation_data=(x_val,y_val),\r\n",
    "    callbacks=[checkpoint_cb, early_stopping_cb, lr_scheduler],\r\n",
    "    epochs=10,verbose=2\r\n",
    ")"
   ],
   "outputs": [],
   "metadata": {}
  }
 ],
 "metadata": {
  "orig_nbformat": 4,
  "language_info": {
   "name": "python",
   "version": "3.8.11",
   "mimetype": "text/x-python",
   "codemirror_mode": {
    "name": "ipython",
    "version": 3
   },
   "pygments_lexer": "ipython3",
   "nbconvert_exporter": "python",
   "file_extension": ".py"
  },
  "kernelspec": {
   "name": "python3",
   "display_name": "Python 3.8.11 64-bit ('tf': conda)"
  },
  "interpreter": {
   "hash": "ab7d3515f702e773f850cbeda25136a17e412e0c7d7d1e717610509fde14580b"
  }
 },
 "nbformat": 4,
 "nbformat_minor": 2
}